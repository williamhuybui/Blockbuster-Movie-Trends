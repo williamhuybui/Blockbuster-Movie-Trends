{
 "cells": [
  {
   "cell_type": "markdown",
   "metadata": {},
   "source": [
    "# <p style=\"text-align: center;color:red\" >  Imar, William, Huy </p>\n",
    "## <p style=\"text-align: center; color:blue\"> Project 1 (DS 082619) </p>"
   ]
  },
  {
   "cell_type": "code",
   "execution_count": 2,
   "metadata": {},
   "outputs": [],
   "source": [
    "import sqlite3 \n",
    "import pandas as pd"
   ]
  },
  {
   "cell_type": "code",
   "execution_count": 3,
   "metadata": {},
   "outputs": [],
   "source": [
    "conn=sqlite3.connect('database.sqlite')\n",
    "cur=conn.cursor()"
   ]
  },
  {
   "cell_type": "code",
   "execution_count": 4,
   "metadata": {},
   "outputs": [
    {
     "name": "stdout",
     "output_type": "stream",
     "text": [
      "Total number of matches is:  992\n"
     ]
    },
    {
     "data": {
      "text/html": [
       "<div>\n",
       "<style scoped>\n",
       "    .dataframe tbody tr th:only-of-type {\n",
       "        vertical-align: middle;\n",
       "    }\n",
       "\n",
       "    .dataframe tbody tr th {\n",
       "        vertical-align: top;\n",
       "    }\n",
       "\n",
       "    .dataframe thead th {\n",
       "        text-align: right;\n",
       "    }\n",
       "</style>\n",
       "<table border=\"1\" class=\"dataframe\">\n",
       "  <thead>\n",
       "    <tr style=\"text-align: right;\">\n",
       "      <th></th>\n",
       "      <th>Match_ID</th>\n",
       "      <th>Div</th>\n",
       "      <th>Season</th>\n",
       "      <th>Date</th>\n",
       "      <th>HomeTeam</th>\n",
       "      <th>AwayTeam</th>\n",
       "      <th>FTHG</th>\n",
       "      <th>FTAG</th>\n",
       "      <th>FTR</th>\n",
       "    </tr>\n",
       "  </thead>\n",
       "  <tbody>\n",
       "    <tr>\n",
       "      <th>0</th>\n",
       "      <td>1092</td>\n",
       "      <td>D1</td>\n",
       "      <td>2011</td>\n",
       "      <td>2012-03-31</td>\n",
       "      <td>Nurnberg</td>\n",
       "      <td>Bayern Munich</td>\n",
       "      <td>0</td>\n",
       "      <td>1</td>\n",
       "      <td>A</td>\n",
       "    </tr>\n",
       "    <tr>\n",
       "      <th>1</th>\n",
       "      <td>1093</td>\n",
       "      <td>D1</td>\n",
       "      <td>2011</td>\n",
       "      <td>2011-12-11</td>\n",
       "      <td>Stuttgart</td>\n",
       "      <td>Bayern Munich</td>\n",
       "      <td>1</td>\n",
       "      <td>2</td>\n",
       "      <td>A</td>\n",
       "    </tr>\n",
       "    <tr>\n",
       "      <th>2</th>\n",
       "      <td>1094</td>\n",
       "      <td>D1</td>\n",
       "      <td>2011</td>\n",
       "      <td>2011-08-13</td>\n",
       "      <td>Wolfsburg</td>\n",
       "      <td>Bayern Munich</td>\n",
       "      <td>0</td>\n",
       "      <td>1</td>\n",
       "      <td>A</td>\n",
       "    </tr>\n",
       "    <tr>\n",
       "      <th>3</th>\n",
       "      <td>1095</td>\n",
       "      <td>D1</td>\n",
       "      <td>2011</td>\n",
       "      <td>2011-11-27</td>\n",
       "      <td>Mainz</td>\n",
       "      <td>Bayern Munich</td>\n",
       "      <td>3</td>\n",
       "      <td>2</td>\n",
       "      <td>H</td>\n",
       "    </tr>\n",
       "    <tr>\n",
       "      <th>4</th>\n",
       "      <td>1096</td>\n",
       "      <td>D1</td>\n",
       "      <td>2011</td>\n",
       "      <td>2012-02-18</td>\n",
       "      <td>Freiburg</td>\n",
       "      <td>Bayern Munich</td>\n",
       "      <td>0</td>\n",
       "      <td>0</td>\n",
       "      <td>D</td>\n",
       "    </tr>\n",
       "  </tbody>\n",
       "</table>\n",
       "</div>"
      ],
      "text/plain": [
       "   Match_ID Div  Season        Date   HomeTeam       AwayTeam  FTHG  FTAG FTR\n",
       "0      1092  D1    2011  2012-03-31   Nurnberg  Bayern Munich     0     1   A\n",
       "1      1093  D1    2011  2011-12-11  Stuttgart  Bayern Munich     1     2   A\n",
       "2      1094  D1    2011  2011-08-13  Wolfsburg  Bayern Munich     0     1   A\n",
       "3      1095  D1    2011  2011-11-27      Mainz  Bayern Munich     3     2   H\n",
       "4      1096  D1    2011  2012-02-18   Freiburg  Bayern Munich     0     0   D"
      ]
     },
     "execution_count": 4,
     "metadata": {},
     "output_type": "execute_result"
    }
   ],
   "source": [
    "s=cur.execute(\"\"\"SELECT * FROM Matches WHERE Season=2011 ;\"\"\" ).fetchall()\n",
    "df=pd.DataFrame(s)\n",
    "df.columns=[x[0] for x in cur.description]\n",
    "print(\"Total number of matches is: \",df.shape[0])\n",
    "df.head()"
   ]
  },
  {
   "cell_type": "markdown",
   "metadata": {},
   "source": [
    "## <p style=\"color:maroon\"> 1) The name of the team, total number of goals scored, total number of wins the team earned during the 2011 season </p>"
   ]
  },
  {
   "cell_type": "code",
   "execution_count": 5,
   "metadata": {},
   "outputs": [
    {
     "data": {
      "text/plain": [
       "(56, 2)"
      ]
     },
     "execution_count": 5,
     "metadata": {},
     "output_type": "execute_result"
    }
   ],
   "source": [
    "#HomeTotalGoal\n",
    "s1=cur.execute(\"\"\"SELECT HomeTeam ,\n",
    "                    SUM(FTHG) AS HomeTotalGoal\n",
    "                    FROM Matches WHERE Season=2011 GROUP BY HomeTeam ;\"\"\" ).fetchall()\n",
    "dfNew1=pd.DataFrame(s1)\n",
    "dfNew1.columns=[x[0] for x in cur.description]\n",
    "dfNew1.shape"
   ]
  },
  {
   "cell_type": "code",
   "execution_count": 6,
   "metadata": {},
   "outputs": [
    {
     "data": {
      "text/plain": [
       "(56, 2)"
      ]
     },
     "execution_count": 6,
     "metadata": {},
     "output_type": "execute_result"
    }
   ],
   "source": [
    "#AwayTotalGoal\n",
    "s2=cur.execute(\"\"\"SELECT AwayTeam, \n",
    "                    SUM(FTAG) AS AwayTotalGoal\n",
    "                    FROM Matches WHERE Season=2011 GROUP BY AwayTeam ORDER BY AwayTeam;\"\"\" ).fetchall()\n",
    "dfNew2=pd.DataFrame(s2)\n",
    "dfNew2.columns=[x[0] for x in cur.description]\n",
    "dfNew2.shape"
   ]
  },
  {
   "cell_type": "code",
   "execution_count": 7,
   "metadata": {
    "scrolled": true
   },
   "outputs": [
    {
     "data": {
      "text/plain": [
       "(56, 2)"
      ]
     },
     "execution_count": 7,
     "metadata": {},
     "output_type": "execute_result"
    }
   ],
   "source": [
    "#Totalwin from HomeTeam\n",
    "s3=cur.execute(\"\"\"SELECT HomeTeam, \n",
    "                    COUNT(FTR) AS TotalHomeWin\n",
    "                    FROM Matches WHERE Season=2011 AND FTR=\"H\" GROUP BY HomeTeam ORDER BY HomeTeam ;\"\"\" ).fetchall()\n",
    "dfNew3=pd.DataFrame(s3)\n",
    "dfNew3.columns=[x[0] for x in cur.description]\n",
    "dfNew3.shape"
   ]
  },
  {
   "cell_type": "code",
   "execution_count": 8,
   "metadata": {},
   "outputs": [
    {
     "data": {
      "text/plain": [
       "(56, 2)"
      ]
     },
     "execution_count": 8,
     "metadata": {},
     "output_type": "execute_result"
    }
   ],
   "source": [
    "#Totalwin from AwayTeam\n",
    "s4=cur.execute(\"\"\"SELECT AwayTeam, \n",
    "                    COUNT(FTR) AS TotalAwayWin\n",
    "                    FROM Matches WHERE Season=2011 AND FTR=\"A\" GROUP BY AwayTeam ORDER BY AwayTeam;\"\"\" ).fetchall()\n",
    "dfNew4=pd.DataFrame(s4)\n",
    "dfNew4.columns=[x[0] for x in cur.description]\n",
    "dfNew4.shape"
   ]
  },
  {
   "cell_type": "code",
   "execution_count": 9,
   "metadata": {},
   "outputs": [
    {
     "data": {
      "text/plain": [
       "(56, 2)"
      ]
     },
     "execution_count": 9,
     "metadata": {},
     "output_type": "execute_result"
    }
   ],
   "source": [
    "#Total Draw from HomeTeam\n",
    "s5=cur.execute(\"\"\"SELECT HomeTeam, \n",
    "                    COUNT(FTR) AS TotalHomeDraw\n",
    "                    FROM Matches WHERE Season=2011 AND FTR=\"D\" GROUP BY HomeTeam ORDER BY HomeTeam;\"\"\" ).fetchall()\n",
    "dfNew5=pd.DataFrame(s5)\n",
    "dfNew5.columns=[x[0] for x in cur.description]\n",
    "dfNew5.shape"
   ]
  },
  {
   "cell_type": "code",
   "execution_count": 10,
   "metadata": {},
   "outputs": [
    {
     "data": {
      "text/plain": [
       "(56, 2)"
      ]
     },
     "execution_count": 10,
     "metadata": {},
     "output_type": "execute_result"
    }
   ],
   "source": [
    "#Total Draw from AwayTeam\n",
    "s6=cur.execute(\"\"\"SELECT AwayTeam, \n",
    "                    COUNT(FTR) AS TotalAwayDraw\n",
    "                    FROM Matches WHERE Season=2011 AND FTR=\"D\" GROUP BY AwayTeam ORDER BY AwayTeam;\"\"\" ).fetchall()\n",
    "dfNew6=pd.DataFrame(s6)\n",
    "dfNew6.columns=[x[0] for x in cur.description]\n",
    "dfNew6.shape"
   ]
  },
  {
   "cell_type": "code",
   "execution_count": 11,
   "metadata": {},
   "outputs": [
    {
     "name": "stdout",
     "output_type": "stream",
     "text": [
      "(54, 2)\n",
      "Team that missing:  {'Man City', 'Hannover'}\n"
     ]
    },
    {
     "data": {
      "text/plain": [
       "(56, 2)"
      ]
     },
     "execution_count": 11,
     "metadata": {},
     "output_type": "execute_result"
    }
   ],
   "source": [
    "#Total loss from Hometeam\n",
    "s7=cur.execute(\"\"\"SELECT HomeTeam, \n",
    "                    COUNT(FTR) AS TotalHomeLoss\n",
    "                    FROM Matches WHERE Season=2011 AND FTR=\"A\" GROUP BY HomeTeam ORDER BY HomeTeam;\"\"\" ).fetchall()\n",
    "dfNew7=pd.DataFrame(s7)\n",
    "dfNew7.columns=[x[0] for x in cur.description]\n",
    "print(dfNew7.shape)\n",
    "\n",
    "#Since there are some team that never lose\n",
    "print(\"Team that missing: \", set(dfNew6['AwayTeam'])-set(dfNew7['HomeTeam']))\n",
    "\n",
    "#Add missing team and sort by name\n",
    "dfTemp=pd.DataFrame({\"HomeTeam\":[\"Hannover\",\"Man City\"],\"TotalHomeLoss\":[0,0]})\n",
    "dfNew7=dfNew7.append(dfTemp,ignore_index=True)\n",
    "dfNew7=dfNew7.sort_values(['HomeTeam'])\n",
    "dfNew7.shape"
   ]
  },
  {
   "cell_type": "code",
   "execution_count": 13,
   "metadata": {},
   "outputs": [
    {
     "name": "stdout",
     "output_type": "stream",
     "text": [
      "56\n"
     ]
    }
   ],
   "source": [
    "#Total loss from AwayTeam\n",
    "s8=cur.execute(\"\"\"SELECT AwayTeam, \n",
    "                    COUNT(FTR) AS TotalAwayLoss\n",
    "                    FROM Matches WHERE Season=2011 AND FTR=\"H\" GROUP BY AwayTeam ORDER BY AwayTeam;\"\"\" ).fetchall()\n",
    "dfNew8=pd.DataFrame(s8)\n",
    "dfNew8.columns=[x[0] for x in cur.description]\n",
    "print(dfNew8.shape[0])"
   ]
  },
  {
   "cell_type": "code",
   "execution_count": 14,
   "metadata": {
    "scrolled": true
   },
   "outputs": [
    {
     "name": "stdout",
     "output_type": "stream",
     "text": [
      "992\n"
     ]
    }
   ],
   "source": [
    "#Combine them\n",
    "dfNew=pd.DataFrame({})\n",
    "dfNew[\"Team\"]=dfNew1[\"HomeTeam\"]\n",
    "dfNew[\"TotalGoals\"]= dfNew1[\"HomeTotalGoal\"]+dfNew2[\"AwayTotalGoal\"]\n",
    "dfNew[\"TotalWin\"]=dfNew3[\"TotalHomeWin\"]+dfNew4[\"TotalAwayWin\"]\n",
    "dfNew[\"TotalDraw\"]= dfNew5[\"TotalHomeDraw\"]+dfNew6[\"TotalAwayDraw\"]\n",
    "dfNew[\"TotalLoss\"]=dfNew7[\"TotalHomeLoss\"]+dfNew8[\"TotalAwayLoss\"]\n",
    "\n",
    "print(int(sum(dfNew[\"TotalDraw\"])/2+sum(dfNew[\"TotalWin\"])))"
   ]
  },
  {
   "cell_type": "code",
   "execution_count": 15,
   "metadata": {},
   "outputs": [
    {
     "name": "stdout",
     "output_type": "stream",
     "text": [
      "(56, 5)\n"
     ]
    },
    {
     "data": {
      "text/html": [
       "<div>\n",
       "<style scoped>\n",
       "    .dataframe tbody tr th:only-of-type {\n",
       "        vertical-align: middle;\n",
       "    }\n",
       "\n",
       "    .dataframe tbody tr th {\n",
       "        vertical-align: top;\n",
       "    }\n",
       "\n",
       "    .dataframe thead th {\n",
       "        text-align: right;\n",
       "    }\n",
       "</style>\n",
       "<table border=\"1\" class=\"dataframe\">\n",
       "  <thead>\n",
       "    <tr style=\"text-align: right;\">\n",
       "      <th></th>\n",
       "      <th>Team</th>\n",
       "      <th>TotalGoals</th>\n",
       "      <th>TotalWin</th>\n",
       "      <th>TotalDraw</th>\n",
       "      <th>TotalLoss</th>\n",
       "    </tr>\n",
       "  </thead>\n",
       "  <tbody>\n",
       "    <tr>\n",
       "      <th>0</th>\n",
       "      <td>Aachen</td>\n",
       "      <td>30</td>\n",
       "      <td>6</td>\n",
       "      <td>13</td>\n",
       "      <td>15</td>\n",
       "    </tr>\n",
       "    <tr>\n",
       "      <th>1</th>\n",
       "      <td>Arsenal</td>\n",
       "      <td>74</td>\n",
       "      <td>21</td>\n",
       "      <td>7</td>\n",
       "      <td>10</td>\n",
       "    </tr>\n",
       "    <tr>\n",
       "      <th>2</th>\n",
       "      <td>Aston Villa</td>\n",
       "      <td>37</td>\n",
       "      <td>7</td>\n",
       "      <td>17</td>\n",
       "      <td>14</td>\n",
       "    </tr>\n",
       "    <tr>\n",
       "      <th>3</th>\n",
       "      <td>Augsburg</td>\n",
       "      <td>36</td>\n",
       "      <td>8</td>\n",
       "      <td>14</td>\n",
       "      <td>12</td>\n",
       "    </tr>\n",
       "    <tr>\n",
       "      <th>4</th>\n",
       "      <td>Bayern Munich</td>\n",
       "      <td>77</td>\n",
       "      <td>23</td>\n",
       "      <td>4</td>\n",
       "      <td>7</td>\n",
       "    </tr>\n",
       "  </tbody>\n",
       "</table>\n",
       "</div>"
      ],
      "text/plain": [
       "            Team  TotalGoals  TotalWin  TotalDraw  TotalLoss\n",
       "0         Aachen          30         6         13         15\n",
       "1        Arsenal          74        21          7         10\n",
       "2    Aston Villa          37         7         17         14\n",
       "3       Augsburg          36         8         14         12\n",
       "4  Bayern Munich          77        23          4          7"
      ]
     },
     "execution_count": 15,
     "metadata": {},
     "output_type": "execute_result"
    }
   ],
   "source": [
    "print(dfNew.shape)\n",
    "dfNew.head()"
   ]
  },
  {
   "cell_type": "markdown",
   "metadata": {},
   "source": [
    "## <p style=\"color:maroon\"> 2) A histogram visualization of the team's wins and losses for the 2011 season (store the visualization directly by assigning it to a variable) </p>"
   ]
  },
  {
   "cell_type": "code",
   "execution_count": 212,
   "metadata": {},
   "outputs": [],
   "source": [
    "import matplotlib.pyplot as plt"
   ]
  },
  {
   "cell_type": "code",
   "execution_count": 231,
   "metadata": {},
   "outputs": [
    {
     "data": {
      "image/png": "[encoded data removed]",
      "text/plain": [
       "<Figure size 1008x720 with 1 Axes>"
      ]
     },
     "metadata": {
      "needs_background": "light"
     },
     "output_type": "display_data"
    }
   ],
   "source": [
    "plt.figure(figsize = (14, 10))\n",
    "dfTemp=dfNew.sort_values([\"TotalWin\"])\n",
    "plt.bar(dfTemp[\"Team\"],dfTemp[\"TotalWin\"],color=['red', 'black', 'yellow','blue'])\n",
    "plt.xticks(x, rotation=90)\n",
    "plt.xlabel(\"Teams\")\n",
    "plt.ylabel(\"Wins\")\n",
    "plt.title(\"Total Team Wins\")\n",
    "plt.show()"
   ]
  },
  {
   "cell_type": "code",
   "execution_count": 234,
   "metadata": {},
   "outputs": [
    {
     "data": {
      "image/png": "[encoded data removed]",
      "text/plain": [
       "<Figure size 1008x720 with 1 Axes>"
      ]
     },
     "metadata": {
      "needs_background": "light"
     },
     "output_type": "display_data"
    }
   ],
   "source": [
    "plt.figure(figsize = (14, 10))\n",
    "\n",
    "dfTemp=dfNew.sort_values([\"TotalLoss\"])\n",
    "plt.bar(dfTemp[\"Team\"],dfTemp[\"TotalLoss\"],color=['cyan', 'green', 'magenta','blue'])\n",
    "\n",
    "plt.xticks(x, rotation=90)\n",
    "plt.xlabel(\"Teams\")\n",
    "plt.ylabel(\"Loses\")\n",
    "plt.title(\"Total Team Loses\")\n",
    "plt.show()"
   ]
  },
  {
   "cell_type": "markdown",
   "metadata": {},
   "source": [
    "## <p style=\"color:maroon\"> 3) The team's win percentage on days where it was raining during games in the 2011 season. </p>"
   ]
  },
  {
   "cell_type": "code",
   "execution_count": 95,
   "metadata": {},
   "outputs": [
    {
     "data": {
      "text/plain": [
       "992"
      ]
     },
     "execution_count": 95,
     "metadata": {},
     "output_type": "execute_result"
    }
   ],
   "source": [
    "import datetime\n",
    "import requests\n",
    "from api_key import key\n",
    "\n",
    "#4efaf5efcae99d58fef159c34d23ff28\n",
    "#16ff9b4d89256c89ce3d1af54b4294de\n",
    "key=\"16ff9b4d89256c89ce3d1af54b4294de\"\n",
    "s=cur.execute(\"\"\"SELECT Date, HomeTeam, AwayTeam FROM Matches WHERE Season=2011 ;\"\"\" ).fetchall()\n",
    "df=pd.DataFrame(s)\n",
    "df.columns=[x[0] for x in cur.description]\n",
    "len(df)"
   ]
  },
  {
   "cell_type": "code",
   "execution_count": 96,
   "metadata": {},
   "outputs": [],
   "source": [
    "#Change date to timestamp\n",
    "def dateToTimeStamp(date):\n",
    "    return int(datetime.datetime.strptime(date, \"%Y-%m-%d\").timestamp())"
   ]
  },
  {
   "cell_type": "code",
   "execution_count": 97,
   "metadata": {},
   "outputs": [
    {
     "data": {
      "text/plain": [
       "1323583200"
      ]
     },
     "execution_count": 97,
     "metadata": {},
     "output_type": "execute_result"
    }
   ],
   "source": [
    "dateToTimeStamp(\"2011-12-11\") #Test"
   ]
  },
  {
   "cell_type": "code",
   "execution_count": 107,
   "metadata": {},
   "outputs": [],
   "source": [
    "#Add timeStamp to make a new URL\n",
    "def fixURL(timeStamp):\n",
    "    url=\"https://api.darksky.net/forecast/{}/52.5200,13.4050,\".format(key)\n",
    "    return url+str(timeStamp)+\"?exclude=currently,hourly\""
   ]
  },
  {
   "cell_type": "code",
   "execution_count": 108,
   "metadata": {},
   "outputs": [],
   "source": [
    "#Function that get the weather in the Data Frame. \n",
    "def weatherStatus(url):\n",
    "    data=requests.get(url)\n",
    "    dataSet=data.json()\n",
    "    try: \n",
    "        if 'precipType' in dataSet[\"daily\"][\"data\"][0].keys():\n",
    "            return dataSet[\"daily\"][\"data\"][0]['precipType']\n",
    "    except:\n",
    "        return 0"
   ]
  },
  {
   "cell_type": "code",
   "execution_count": 109,
   "metadata": {},
   "outputs": [
    {
     "name": "stdout",
     "output_type": "stream",
     "text": [
      "1323583200\n",
      "rain\n"
     ]
    }
   ],
   "source": [
    "#Test\n",
    "# url=\"https://api.darksky.net/forecast/16ff9b4d89256c89ce3d1af54b4294de/52.5200,-13.4050,1568343600\"\n",
    "# data=requests.get(url)\n",
    "url=\"\"\n",
    "print(dateToTimeStamp(\"2011-12-11\"))\n",
    "# url=fixURL(dateToTimeStamp(\"2011-12-11\"))\n",
    "url=\"https://api.darksky.net/forecast/16ff9b4d89256c89ce3d1af54b4294de/52.5200,13.4050,1568343600?exclude=currently,hourly\"\n",
    "print(weatherStatus(url))\n"
   ]
  },
  {
   "cell_type": "code",
   "execution_count": 110,
   "metadata": {},
   "outputs": [],
   "source": [
    "#https://api.darksky.net/forecast/16ff9b4d89256c89ce3d1af54b4294de/52.5200,-13.4050,1568343600?exclude=currently,hourly"
   ]
  },
  {
   "cell_type": "markdown",
   "metadata": {},
   "source": [
    "## <p style=\"color:red\"> Stop! </p>"
   ]
  },
  {
   "cell_type": "code",
   "execution_count": 112,
   "metadata": {
    "collapsed": true
   },
   "outputs": [
    {
     "name": "stdout",
     "output_type": "stream",
     "text": [
      "2012-03-31 rain\n",
      "2011-12-11 None\n",
      "2011-08-13 None\n",
      "2011-11-27 None\n",
      "2012-02-18 None\n",
      "2012-01-20 rain\n",
      "2012-02-04 None\n",
      "2012-04-21 None\n",
      "2011-09-18 rain\n",
      "2011-10-23 rain\n",
      "2011-10-01 None\n",
      "2012-03-03 None\n",
      "2011-08-27 rain\n",
      "2012-03-17 None\n",
      "2011-11-06 rain\n",
      "2012-05-05 rain\n",
      "2012-04-11 None\n",
      "2011-12-17 rain\n",
      "2012-02-03 None\n",
      "2011-10-29 None\n",
      "2012-01-22 rain\n",
      "2011-12-03 rain\n",
      "2012-04-14 None\n",
      "2012-03-25 None\n",
      "2012-03-10 None\n",
      "2012-04-07 None\n",
      "2011-11-19 None\n",
      "2011-10-14 None\n",
      "2011-09-24 None\n",
      "2012-04-28 None\n",
      "2011-12-18 rain\n",
      "2012-03-02 None\n",
      "2012-03-16 None\n",
      "2012-02-17 rain\n",
      "2011-08-06 rain\n",
      "2011-11-04 None\n",
      "2011-09-16 None\n",
      "2011-07-15 None\n",
      "2012-05-06 rain\n",
      "2012-02-11 None\n",
      "2011-10-02 None\n",
      "2012-03-30 None\n",
      "2011-10-22 None\n",
      "2011-08-26 rain\n",
      "2011-08-07 rain\n",
      "2012-02-24 rain\n",
      "2011-07-17 rain\n",
      "2012-02-12 None\n",
      "2011-08-22 None\n",
      "2011-09-09 rain\n",
      "2012-04-01 None\n",
      "2011-09-25 None\n",
      "2012-04-20 None\n",
      "2011-11-25 rain\n",
      "2012-03-09 None\n",
      "2011-11-07 None\n",
      "2011-09-10 rain\n",
      "2011-08-21 None\n",
      "2011-09-26 None\n",
      "2012-03-26 None\n",
      "2011-10-30 rain\n",
      "2012-02-13 None\n",
      "2012-02-26 None\n",
      "2011-12-19 None\n",
      "2012-03-11 None\n",
      "2011-11-26 rain\n",
      "2012-04-23 None\n",
      "2011-12-16 rain\n",
      "2011-11-05 rain\n",
      "2012-04-10 None\n",
      "2012-04-15 None\n",
      "2012-02-05 None\n",
      "2012-03-04 None\n",
      "2011-09-17 None\n",
      "2012-01-21 None\n",
      "2012-03-18 None\n",
      "2012-04-22 None\n",
      "2011-08-20 None\n",
      "2012-02-10 None\n",
      "2012-02-25 None\n",
      "2011-12-10 rain\n",
      "2012-01-29 None\n",
      "2011-10-16 rain\n",
      "2011-08-05 rain\n",
      "2012-03-23 None\n",
      "2011-09-23 None\n",
      "2012-01-28 None\n",
      "2011-10-15 None\n",
      "2012-03-24 None\n",
      "2011-11-18 rain\n",
      "2012-04-29 None\n",
      "2011-12-09 rain\n",
      "2012-04-08 None\n",
      "2012-03-12 rain\n",
      "2011-07-23 rain\n",
      "2011-10-28 None\n",
      "2012-01-27 None\n",
      "2011-12-04 None\n",
      "2011-09-11 rain\n",
      "2011-09-30 None\n",
      "2012-02-19 rain\n",
      "2012-04-13 None\n",
      "2011-10-21 None\n",
      "2011-08-14 rain\n",
      "2011-09-12 rain\n",
      "2011-07-18 rain\n",
      "2011-08-08 rain\n",
      "2011-07-24 None\n",
      "2011-12-13 rain\n",
      "2011-08-28 None\n",
      "2011-08-19 rain\n",
      "2012-03-14 None\n",
      "2011-08-12 rain\n",
      "2012-03-05 None\n",
      "2011-12-02 rain\n",
      "2011-09-19 rain\n",
      "2011-07-25 None\n",
      "2012-04-02 rain\n",
      "2012-02-06 None\n",
      "2011-11-21 None\n",
      "2011-07-22 rain\n",
      "2011-08-29 rain\n",
      "2012-04-05 None\n",
      "2011-11-28 None\n",
      "2011-12-12 rain\n",
      "2011-11-20 None\n",
      "2012-02-27 rain\n",
      "2011-07-16 None\n",
      "2011-10-31 None\n",
      "2012-02-20 None\n",
      "2011-10-17 None\n",
      "2011-12-05 None\n",
      "2012-04-16 None\n",
      "2011-10-03 None\n",
      "2012-03-19 None\n",
      "2011-08-15 rain\n",
      "2011-12-20 None\n",
      "2011-12-21 rain\n",
      "2011-12-22 None\n",
      "2011-12-26 rain\n",
      "2011-12-27 None\n",
      "2011-12-30 rain\n",
      "2011-12-31 None\n",
      "2012-01-01 rain\n",
      "2012-01-02 rain\n",
      "2012-01-03 rain\n",
      "2012-01-04 rain\n",
      "2012-01-11 None\n",
      "2012-01-14 None\n",
      "2012-01-15 None\n",
      "2012-01-16 rain\n",
      "2012-01-31 None\n",
      "2012-02-01 None\n",
      "2012-03-13 None\n",
      "2012-03-20 None\n",
      "2012-03-21 None\n",
      "2012-04-06 None\n",
      "2012-04-09 None\n",
      "2012-04-24 rain\n",
      "2012-04-30 None\n",
      "2012-05-01 None\n",
      "2012-05-02 None\n",
      "2012-05-07 None\n",
      "2012-05-08 None\n",
      "2012-05-13 None\n"
     ]
    }
   ],
   "source": [
    "weatherList=[]\n",
    "uniqueDate=df[\"Date\"].unique()\n",
    "something=pd.DataFrame({})\n",
    "count=0\n",
    "for i in uniqueDate:\n",
    "    url=[]\n",
    "    url=fixURL(dateToTimeStamp(i))\n",
    "    weatherList.append(weatherStatus(url))\n",
    "    print(i,weatherList[count])\n",
    "    count+=1"
   ]
  },
  {
   "cell_type": "markdown",
   "metadata": {},
   "source": [
    "## <p style=\"color:blue\"> Ok now! </p>"
   ]
  },
  {
   "cell_type": "code",
   "execution_count": 121,
   "metadata": {},
   "outputs": [
    {
     "data": {
      "text/plain": [
       "[1, 0, 0, 0, 0, 1, 0, 0, 1, 1]"
      ]
     },
     "execution_count": 121,
     "metadata": {},
     "output_type": "execute_result"
    }
   ],
   "source": [
    "#Convert and Test\n",
    "weathers=[]\n",
    "for i in weatherList:\n",
    "    if i==\"rain\":\n",
    "        weathers.append(1)\n",
    "    else:\n",
    "        weathers.append(0)\n",
    "weathers[:10]"
   ]
  },
  {
   "cell_type": "code",
   "execution_count": 131,
   "metadata": {},
   "outputs": [],
   "source": [
    "#Full data\n",
    "conn=sqlite3.connect('database.sqlite')\n",
    "cur=conn.cursor()\n",
    "s=cur.execute(\"\"\"SELECT Date, HomeTeam, AwayTeam, FTR FROM Matches WHERE Season=2011 ;\"\"\" ).fetchall()\n",
    "df=pd.DataFrame(s)\n",
    "df.columns=[x[0] for x in cur.description]"
   ]
  },
  {
   "cell_type": "code",
   "execution_count": 132,
   "metadata": {
    "scrolled": true
   },
   "outputs": [],
   "source": [
    "#Create unique date and weather Dataframe\n",
    "dateAndWeather=pd.DataFrame({\"Date\":uniqueDate,\"Weather\":weathers})"
   ]
  },
  {
   "cell_type": "code",
   "execution_count": 152,
   "metadata": {},
   "outputs": [
    {
     "data": {
      "text/html": [
       "<div>\n",
       "<style scoped>\n",
       "    .dataframe tbody tr th:only-of-type {\n",
       "        vertical-align: middle;\n",
       "    }\n",
       "\n",
       "    .dataframe tbody tr th {\n",
       "        vertical-align: top;\n",
       "    }\n",
       "\n",
       "    .dataframe thead th {\n",
       "        text-align: right;\n",
       "    }\n",
       "</style>\n",
       "<table border=\"1\" class=\"dataframe\">\n",
       "  <thead>\n",
       "    <tr style=\"text-align: right;\">\n",
       "      <th></th>\n",
       "      <th>Date</th>\n",
       "      <th>HomeTeam</th>\n",
       "      <th>AwayTeam</th>\n",
       "      <th>FTR</th>\n",
       "      <th>Rainy?</th>\n",
       "    </tr>\n",
       "  </thead>\n",
       "  <tbody>\n",
       "    <tr>\n",
       "      <th>0</th>\n",
       "      <td>2012-03-31</td>\n",
       "      <td>Nurnberg</td>\n",
       "      <td>Bayern Munich</td>\n",
       "      <td>A</td>\n",
       "      <td>1</td>\n",
       "    </tr>\n",
       "    <tr>\n",
       "      <th>1</th>\n",
       "      <td>2011-12-11</td>\n",
       "      <td>Stuttgart</td>\n",
       "      <td>Bayern Munich</td>\n",
       "      <td>A</td>\n",
       "      <td>0</td>\n",
       "    </tr>\n",
       "    <tr>\n",
       "      <th>2</th>\n",
       "      <td>2011-08-13</td>\n",
       "      <td>Wolfsburg</td>\n",
       "      <td>Bayern Munich</td>\n",
       "      <td>A</td>\n",
       "      <td>0</td>\n",
       "    </tr>\n",
       "    <tr>\n",
       "      <th>3</th>\n",
       "      <td>2011-11-27</td>\n",
       "      <td>Mainz</td>\n",
       "      <td>Bayern Munich</td>\n",
       "      <td>H</td>\n",
       "      <td>0</td>\n",
       "    </tr>\n",
       "    <tr>\n",
       "      <th>4</th>\n",
       "      <td>2012-02-18</td>\n",
       "      <td>Freiburg</td>\n",
       "      <td>Bayern Munich</td>\n",
       "      <td>D</td>\n",
       "      <td>0</td>\n",
       "    </tr>\n",
       "  </tbody>\n",
       "</table>\n",
       "</div>"
      ],
      "text/plain": [
       "         Date   HomeTeam       AwayTeam FTR  Rainy?\n",
       "0  2012-03-31   Nurnberg  Bayern Munich   A       1\n",
       "1  2011-12-11  Stuttgart  Bayern Munich   A       0\n",
       "2  2011-08-13  Wolfsburg  Bayern Munich   A       0\n",
       "3  2011-11-27      Mainz  Bayern Munich   H       0\n",
       "4  2012-02-18   Freiburg  Bayern Munich   D       0"
      ]
     },
     "execution_count": 152,
     "metadata": {},
     "output_type": "execute_result"
    }
   ],
   "source": [
    "#Add copy weather from unique list to duplicated list\n",
    "weatherFullList=[]\n",
    "for date in df[\"Date\"]:\n",
    "    for index, dW in enumerate(dateAndWeather[\"Date\"]):\n",
    "        if date == dW:\n",
    "            weatherFullList.append(dateAndWeather[\"Weather\"][index]) \n",
    "\n",
    "df[\"Rainy?\"]=weatherFullList\n",
    "df.head()"
   ]
  },
  {
   "cell_type": "code",
   "execution_count": 291,
   "metadata": {
    "scrolled": true
   },
   "outputs": [
    {
     "data": {
      "text/plain": [
       "array([7, 5, 2, 2, 2, 5, 2, 6, 2, 6, 3, 6, 3, 2, 5, 5, 4, 4, 1, 2, 7, 5,\n",
       "       8, 8, 3, 3, 7, 1, 6, 6, 5, 3, 4, 2, 4, 4, 1, 5, 5, 4, 6, 3, 7, 8,\n",
       "       8, 7, 1, 6, 2, 3, 3, 5, 4, 1, 9, 9])"
      ]
     },
     "execution_count": 291,
     "metadata": {},
     "output_type": "execute_result"
    }
   ],
   "source": [
    "#Win game when raining\n",
    "import numpy as np\n",
    "WWRHomeList=[]\n",
    "for i in df[\"HomeTeam\"].unique():\n",
    "    WWRHomeList.append(len(df[(df[\"HomeTeam\"]==i)&(df[\"Rainy?\"]==1)&(df[\"FTR\"]==\"H\")]))\n",
    "\n",
    "WWRAwayList=[]\n",
    "for i in df[\"AwayTeam\"].unique():\n",
    "    WWRAwayList.append(len(df[(df[\"AwayTeam\"]==i)&(df[\"Rainy?\"]==1)&(df[\"FTR\"]==\"A\")]))\n",
    "len(WWRAwayList)\n",
    "\n",
    "WWR=np.array(WWRHomeList)+np.array(WWRAwayList)\n",
    "WWR"
   ]
  },
  {
   "cell_type": "code",
   "execution_count": 292,
   "metadata": {},
   "outputs": [
    {
     "data": {
      "text/plain": [
       "array([20, 20, 26, 23, 24, 22, 26, 21, 24, 21, 22, 23, 23, 20, 21, 22, 22,\n",
       "       24, 24, 23, 22, 24, 25, 22, 24, 22, 22, 23, 22, 25, 25, 24, 22, 21,\n",
       "       26, 22, 22, 22, 24, 25, 23, 24, 27, 27, 27, 24, 22, 28, 27, 27, 27,\n",
       "       25, 26, 23, 27, 26])"
      ]
     },
     "execution_count": 292,
     "metadata": {},
     "output_type": "execute_result"
    }
   ],
   "source": [
    "#Total game when raining\n",
    "\n",
    "TGWRList=[]\n",
    "for i in df[\"HomeTeam\"].unique():\n",
    "    TGWRList.append(len(df[(df[\"HomeTeam\"]==i)|(df[\"AwayTeam\"]==i)&(df[\"Rainy?\"]==1)]))\n",
    "    \n",
    "TGWRList=np.array(TGWRList)\n",
    "TGWRList"
   ]
  },
  {
   "cell_type": "code",
   "execution_count": 296,
   "metadata": {},
   "outputs": [
    {
     "data": {
      "text/html": [
       "<div>\n",
       "<style scoped>\n",
       "    .dataframe tbody tr th:only-of-type {\n",
       "        vertical-align: middle;\n",
       "    }\n",
       "\n",
       "    .dataframe tbody tr th {\n",
       "        vertical-align: top;\n",
       "    }\n",
       "\n",
       "    .dataframe thead th {\n",
       "        text-align: right;\n",
       "    }\n",
       "</style>\n",
       "<table border=\"1\" class=\"dataframe\">\n",
       "  <thead>\n",
       "    <tr style=\"text-align: right;\">\n",
       "      <th></th>\n",
       "      <th>Team</th>\n",
       "      <th>TotalGame</th>\n",
       "      <th>TotalWin</th>\n",
       "      <th>WwR</th>\n",
       "      <th>TGwR</th>\n",
       "      <th>PercentWwR</th>\n",
       "    </tr>\n",
       "  </thead>\n",
       "  <tbody>\n",
       "    <tr>\n",
       "      <th>0</th>\n",
       "      <td>Nurnberg</td>\n",
       "      <td>34</td>\n",
       "      <td>6</td>\n",
       "      <td>7</td>\n",
       "      <td>20</td>\n",
       "      <td>35.000000</td>\n",
       "    </tr>\n",
       "    <tr>\n",
       "      <th>1</th>\n",
       "      <td>Stuttgart</td>\n",
       "      <td>38</td>\n",
       "      <td>21</td>\n",
       "      <td>5</td>\n",
       "      <td>20</td>\n",
       "      <td>25.000000</td>\n",
       "    </tr>\n",
       "    <tr>\n",
       "      <th>2</th>\n",
       "      <td>Wolfsburg</td>\n",
       "      <td>38</td>\n",
       "      <td>7</td>\n",
       "      <td>2</td>\n",
       "      <td>26</td>\n",
       "      <td>7.692308</td>\n",
       "    </tr>\n",
       "    <tr>\n",
       "      <th>3</th>\n",
       "      <td>Mainz</td>\n",
       "      <td>34</td>\n",
       "      <td>8</td>\n",
       "      <td>2</td>\n",
       "      <td>23</td>\n",
       "      <td>8.695652</td>\n",
       "    </tr>\n",
       "    <tr>\n",
       "      <th>4</th>\n",
       "      <td>Freiburg</td>\n",
       "      <td>34</td>\n",
       "      <td>23</td>\n",
       "      <td>2</td>\n",
       "      <td>24</td>\n",
       "      <td>8.333333</td>\n",
       "    </tr>\n",
       "  </tbody>\n",
       "</table>\n",
       "</div>"
      ],
      "text/plain": [
       "        Team  TotalGame  TotalWin  WwR  TGwR  PercentWwR\n",
       "0   Nurnberg         34         6    7    20   35.000000\n",
       "1  Stuttgart         38        21    5    20   25.000000\n",
       "2  Wolfsburg         38         7    2    26    7.692308\n",
       "3      Mainz         34         8    2    23    8.695652\n",
       "4   Freiburg         34        23    2    24    8.333333"
      ]
     },
     "execution_count": 296,
     "metadata": {},
     "output_type": "execute_result"
    }
   ],
   "source": [
    "#Combine wins, total game\n",
    "dffoo=pd.DataFrame({})\n",
    "dffoo[\"Team\"] = df[\"HomeTeam\"].unique()\n",
    "dffoo[\"TotalGame\"]= dfNew[\"TotalWin\"]+dfNew[\"TotalLoss\"]+dfNew[\"TotalDraw\"]\n",
    "dffoo[\"TotalWin\"]=dfNew[\"TotalWin\"]\n",
    "dffoo[\"WwR\"]=WWR\n",
    "dffoo[\"TGwR\"]=TGWRList\n",
    "dffoo[\"PercentWwR\"]=(WWR/TGWRList)*100\n",
    "\n",
    "#Reindex\n",
    "newindex=pd.Series(list(range(dffoo.shape[0])))\n",
    "dffoo=dffoo.set_index(newindex)\n",
    "dffoo.head()"
   ]
  },
  {
   "cell_type": "code",
   "execution_count": 298,
   "metadata": {},
   "outputs": [
    {
     "data": {
      "image/png": "[encoded data removed]",
      "text/plain": [
       "<Figure size 1008x720 with 1 Axes>"
      ]
     },
     "metadata": {
      "needs_background": "light"
     },
     "output_type": "display_data"
    }
   ],
   "source": [
    "plt.figure(figsize = (14, 10))\n",
    "\n",
    "dfTemp=dffoo.sort_values([\"PercentWwR\"])\n",
    "plt.bar(dfTemp[\"Team\"],dfTemp[\"PercentWwR\"],color=['cyan', 'green', 'magenta','blue','pink','black'])\n",
    "\n",
    "plt.xticks(x, rotation=90)\n",
    "plt.xlabel(\"Teams\")\n",
    "plt.ylabel(\"PercentWwR\")\n",
    "plt.title(\"PercentWwR Per Team\")\n",
    "plt.show()"
   ]
  },
  {
   "cell_type": "code",
   "execution_count": null,
   "metadata": {},
   "outputs": [],
   "source": []
  }
 ],
 "metadata": {
  "kernelspec": {
   "display_name": "Python 3",
   "language": "python",
   "name": "python3"
  },
  "language_info": {
   "codemirror_mode": {
    "name": "ipython",
    "version": 3
   },
   "file_extension": ".py",
   "mimetype": "text/x-python",
   "name": "python",
   "nbconvert_exporter": "python",
   "pygments_lexer": "ipython3",
   "version": "3.7.3"
  }
 },
 "nbformat": 4,
 "nbformat_minor": 2
}
