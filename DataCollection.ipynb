{
 "cells": [
  {
   "cell_type": "code",
   "execution_count": 2,
   "metadata": {},
   "outputs": [],
   "source": [
    "import pandas as pd\n",
    "import random #Randomize the time\n",
    "import requests\n",
    "from time import sleep #Time delay for webscraping\n",
    "\n",
    "from bs4 import BeautifulSoup as soup #Webscaping\n",
    "import sqlite3 \n",
    "from api_key import key #Get the API key from themoviedb.com and put in api_key file\n",
    "\n",
    "#Import all the function needed to answer the actor/actress question\n",
    "#Contain: castRankList(ID), castRank(Name), cast(ID)\n",
    "from castFunctions import functions\n",
    "\n",
    "#Retrive the key from api_key\n",
    "api_key = key"
   ]
  },
  {
   "cell_type": "markdown",
   "metadata": {},
   "source": [
    "1) SQL Database "
   ]
  },
  {
   "cell_type": "code",
   "execution_count": 40,
   "metadata": {},
   "outputs": [],
   "source": [
    "#Scrape 10 different pages to get the list of 1000 top actors\n",
    "nameList=pd.DataFrame({\"Rank\":[],\"Name\":[] })\n",
    "for pageindex in [1,2,3,4,5,6,7,8,9,10]:\n",
    "    url=\"https://www.imdb.com/list/ls058011111/?sort=list_order,asc&mode=detail&page=\"+str(pageindex)+\"&ref_=nmls_vm_dtl\"\n",
    "    response = requests.get(url)\n",
    "    html_soup=soup(response.text, \"html.parser\")\n",
    "    page=html_soup.find_all(class_=\"lister-item-content\")\n",
    "    for index, element in enumerate(page):\n",
    "        nameList.loc[len(nameList)]=[index+1+(pageindex-1)*100,element.find_all('a')[0].text[:-1]]\n",
    "    #This function randomize the delay time to avoid overload a website\n",
    "    sleep(random.random())"
   ]
  },
  {
   "cell_type": "code",
   "execution_count": 41,
   "metadata": {},
   "outputs": [],
   "source": [
    "#Create a rank List database\n",
    "!rm 'actorRank.db' #Avoid duplicating the file\n",
    "conn = sqlite3.connect('Data/actorRank.db')\n",
    "cur=conn.cursor()\n",
    "\n",
    "#Create table \"rank\" in the \"actorRank\" database. This have 2 columns: Rank, Name\n",
    "cur.execute(\"\"\"CREATE TABLE rank(Rank Integer, Name TEXT);\"\"\")\n",
    "\n",
    "#Insert values from the \"nameList\" created above to the table\n",
    "for i in range(nameList.shape[0]):\n",
    "    name=nameList['Name'][i].replace(\"'\",\" \")\n",
    "    rank=nameList['Rank'][i]\n",
    "    #Note that there is a '' around {}\n",
    "    cur.execute(\"\"\"INSERT INTO rank (Rank,Name) VALUES ({},'{}');\"\"\".format(rank,name))\n",
    "\n",
    "conn.commit() #Save the data base"
   ]
  },
  {
   "cell_type": "markdown",
   "metadata": {},
   "source": [
    "2) Movies CVS"
   ]
  },
  {
   "cell_type": "code",
   "execution_count": 3,
   "metadata": {},
   "outputs": [],
   "source": [
    "#Given a year, return data frame of that year\n",
    "\n",
    "def moviesData(year):\n",
    "    #URL manipulation\n",
    "    urlDiscover='https://api.themoviedb.org/3/discover/movie?api_key='\n",
    "    searchkey='&primary_release_year='+str(year)+'&sort_by=revenue.desc'\n",
    "    response = requests.get(urlDiscover + api_key + searchkey)\n",
    "    revenueResult = response.json() \n",
    "    revenueResultLimit= revenueResult['results']\n",
    "    \n",
    "    #Create df columns\n",
    "    df = pd.DataFrame(columns=['Release_Date','ID','Title','Budget','Revenue','Profit','Runtime','Rating','Genres','Sub-genres'])\n",
    "    #Update the columns\n",
    "    for film in revenueResultLimit:\n",
    "        filmDetails = requests.get('https://api.themoviedb.org/3/movie/'+ str(film['id']) +'?api_key='+ api_key +'&language=en-US')\n",
    "        filmDetails = filmDetails.json()\n",
    "        profit=filmDetails['revenue']-filmDetails['budget']\n",
    "        df.loc[len(df)]=[film['release_date'],film['id'],film['title'],filmDetails['budget'],filmDetails['revenue'], profit,filmDetails['runtime'],filmDetails['vote_average'],filmDetails['genres'][0]['name'],subgenres(filmDetails)]\n",
    "    return df"
   ]
  },
  {
   "cell_type": "code",
   "execution_count": 4,
   "metadata": {},
   "outputs": [],
   "source": [
    "#This is a supplement function for the above function\n",
    "#Give the json file \"filmDetails\", return the list of all genres\n",
    "def genres(filmDetails):\n",
    "    genresList=[]\n",
    "    for i in range(len(filmDetails['genres'])):\n",
    "        genresList.append(filmDetails['genres'][i]['name'])\n",
    "    return genresList"
   ]
  },
  {
   "cell_type": "code",
   "execution_count": 5,
   "metadata": {},
   "outputs": [],
   "source": [
    "#Given movies detail, return the second genres in the genres list\n",
    "def subgenres(filmDetails):\n",
    "    if len(filmDetails['genres'])>1:\n",
    "        return filmDetails['genres'][1]['name']\n",
    "    else:\n",
    "        return \"\""
   ]
  },
  {
   "cell_type": "code",
   "execution_count": 6,
   "metadata": {},
   "outputs": [],
   "source": [
    "#Given ID, return US certification\n",
    "def certification(id):\n",
    "    url=\"https://api.themoviedb.org/3/movie/\"+str(id)+\"/release_dates?api_key=25e030646533a9beb625382caba1b356&language=en-US\"\n",
    "    response=requests.get(url)\n",
    "    filmDetails=response.json()\n",
    "    \n",
    "    #Loop through the json and find MPAA\n",
    "    for i in filmDetails['results']:\n",
    "        if i[\"iso_3166_1\"]==\"US\":\n",
    "            for j in i[\"release_dates\"]:\n",
    "                if len(j[\"certification\"])>0:\n",
    "                    return j[\"certification\"]\n",
    "    return 0\n",
    "    "
   ]
  },
  {
   "cell_type": "code",
   "execution_count": 7,
   "metadata": {},
   "outputs": [
    {
     "name": "stdout",
     "output_type": "stream",
     "text": [
      "2009\n",
      "2010\n",
      "2011\n",
      "2012\n",
      "2013\n",
      "2014\n",
      "2015\n",
      "2016\n",
      "2017\n",
      "2018\n",
      "2019\n"
     ]
    }
   ],
   "source": [
    "#Create a list of Data Frame from 2009 to 2019\n",
    "yearList=[]\n",
    "for i in range(11):\n",
    "    year=2009+i\n",
    "    yearList.append(moviesData(year))\n",
    "    print(year)\n",
    "    sleep(8)"
   ]
  },
  {
   "cell_type": "code",
   "execution_count": 10,
   "metadata": {},
   "outputs": [],
   "source": [
    "#Create a df of all 10 years.\n",
    "df=pd.concat(yearList,ignore_index=True)"
   ]
  },
  {
   "cell_type": "code",
   "execution_count": 11,
   "metadata": {},
   "outputs": [],
   "source": [
    "#Get MPAA list using certification function. This take 2 min\n",
    "MPAAList=[]\n",
    "count=1\n",
    "for i in df[\"ID\"]:\n",
    "    MPAAList.append(certification(i))\n",
    "    count+=1\n",
    "    if count%40==0:\n",
    "        sleep(9) "
   ]
  },
  {
   "cell_type": "code",
   "execution_count": 12,
   "metadata": {},
   "outputs": [],
   "source": [
    "#Add MPAA column to data list\n",
    "df[\"MPAA\"]=MPAAList"
   ]
  },
  {
   "cell_type": "code",
   "execution_count": 14,
   "metadata": {},
   "outputs": [],
   "source": [
    "#Add numTop1k column. This would take 1 min\n",
    "f=functions()\n",
    "numTop1k=[]\n",
    "for id in df[\"ID\"]:\n",
    "    numTop1k.append(len(f.castRankList(id)))"
   ]
  },
  {
   "cell_type": "code",
   "execution_count": 15,
   "metadata": {},
   "outputs": [],
   "source": [
    "#Add number of A list actors to data list\n",
    "df[\"numTop1k\"]=numTop1k"
   ]
  },
  {
   "cell_type": "code",
   "execution_count": 17,
   "metadata": {},
   "outputs": [],
   "source": [
    "#Clean data\n",
    "df=df[df[\"Title\"]!=\"In The Mood For Surrealism or 8021\"].reset_index(drop=True)\n",
    "df=df[df[\"Title\"]!=\"Medium\"].reset_index(drop=True)"
   ]
  },
  {
   "cell_type": "code",
   "execution_count": 18,
   "metadata": {},
   "outputs": [
    {
     "name": "stdout",
     "output_type": "stream",
     "text": [
      "rm: moviesData.csv: No such file or directory\r\n"
     ]
    }
   ],
   "source": [
    "#Save that df in a csv file\n",
    "!rm Data/moviesData.csv\n",
    "df.to_csv('Data/moviesData.csv')"
   ]
  }
 ],
 "metadata": {
  "kernelspec": {
   "display_name": "Python 3",
   "language": "python",
   "name": "python3"
  },
  "language_info": {
   "codemirror_mode": {
    "name": "ipython",
    "version": 3
   },
   "file_extension": ".py",
   "mimetype": "text/x-python",
   "name": "python",
   "nbconvert_exporter": "python",
   "pygments_lexer": "ipython3",
   "version": "3.7.3"
  }
 },
 "nbformat": 4,
 "nbformat_minor": 2
}
